{
 "cells": [
  {
   "cell_type": "markdown",
   "metadata": {},
   "source": [
    "My First Project  #BN_RSI"
   ]
  },
  {
   "cell_type": "code",
   "execution_count": 2,
   "metadata": {},
   "outputs": [],
   "source": [
    "import pandas as pd\n",
    "import pandas_datareader as pdr\n",
    "import numpy as np\n",
    "import datetime as dt\n",
    "from talib import RSI\n",
    "import matplotlib.pyplot as plt\n",
    "from datetime import timedelta\n"
   ]
  },
  {
   "cell_type": "markdown",
   "metadata": {},
   "source": [
    "Read the .csv file with 3 min data for Bank nifty index "
   ]
  },
  {
   "cell_type": "code",
   "execution_count": 3,
   "metadata": {},
   "outputs": [],
   "source": [
    "# we will try to get last 10 year data for : BANKNIFTY INDEX\n",
    "\n",
    "# start_date = dt.datetime(2011,1,1)\n",
    "# end_date = dt.datetime(2020,5,1)\n",
    "\n",
    "\n",
    "# will read the 3 min data of Bank Nifty from .csv file\n",
    "\n",
    "data = pd.read_csv(r\"C:\\Users\\Hardik\\Desktop\\PYTHON\\algorithmic-trading-quantitative-analysis-using-python\\BANK Nifty_3 min_10.02-05.06.20.csv\")"
   ]
  },
  {
   "cell_type": "code",
   "execution_count": 4,
   "metadata": {},
   "outputs": [
    {
     "data": {
      "text/html": [
       "<div>\n",
       "<style scoped>\n",
       "    .dataframe tbody tr th:only-of-type {\n",
       "        vertical-align: middle;\n",
       "    }\n",
       "\n",
       "    .dataframe tbody tr th {\n",
       "        vertical-align: top;\n",
       "    }\n",
       "\n",
       "    .dataframe thead th {\n",
       "        text-align: right;\n",
       "    }\n",
       "</style>\n",
       "<table border=\"1\" class=\"dataframe\">\n",
       "  <thead>\n",
       "    <tr style=\"text-align: right;\">\n",
       "      <th></th>\n",
       "      <th>Date</th>\n",
       "      <th>BANK Nifty O</th>\n",
       "      <th>BANK Nifty H</th>\n",
       "      <th>BANK Nifty L</th>\n",
       "      <th>BANK Nifty C</th>\n",
       "      <th>BANK Nifty V</th>\n",
       "    </tr>\n",
       "  </thead>\n",
       "  <tbody>\n",
       "    <tr>\n",
       "      <td>9642</td>\n",
       "      <td>2/10/2020 9:27</td>\n",
       "      <td>31073.40</td>\n",
       "      <td>31092.15</td>\n",
       "      <td>31072.80</td>\n",
       "      <td>31083.75</td>\n",
       "      <td>0</td>\n",
       "    </tr>\n",
       "    <tr>\n",
       "      <td>9643</td>\n",
       "      <td>2/10/2020 9:24</td>\n",
       "      <td>31100.30</td>\n",
       "      <td>31100.30</td>\n",
       "      <td>31075.75</td>\n",
       "      <td>31075.75</td>\n",
       "      <td>0</td>\n",
       "    </tr>\n",
       "    <tr>\n",
       "      <td>9644</td>\n",
       "      <td>2/10/2020 9:21</td>\n",
       "      <td>31126.25</td>\n",
       "      <td>31127.35</td>\n",
       "      <td>31064.60</td>\n",
       "      <td>31100.85</td>\n",
       "      <td>0</td>\n",
       "    </tr>\n",
       "    <tr>\n",
       "      <td>9645</td>\n",
       "      <td>2/10/2020 9:18</td>\n",
       "      <td>31130.10</td>\n",
       "      <td>31136.25</td>\n",
       "      <td>31097.75</td>\n",
       "      <td>31125.35</td>\n",
       "      <td>0</td>\n",
       "    </tr>\n",
       "    <tr>\n",
       "      <td>9646</td>\n",
       "      <td>2/10/2020 9:15</td>\n",
       "      <td>31248.65</td>\n",
       "      <td>31248.65</td>\n",
       "      <td>31101.20</td>\n",
       "      <td>31127.40</td>\n",
       "      <td>0</td>\n",
       "    </tr>\n",
       "  </tbody>\n",
       "</table>\n",
       "</div>"
      ],
      "text/plain": [
       "                Date  BANK Nifty O  BANK Nifty H  BANK Nifty L  BANK Nifty C  \\\n",
       "9642  2/10/2020 9:27      31073.40      31092.15      31072.80      31083.75   \n",
       "9643  2/10/2020 9:24      31100.30      31100.30      31075.75      31075.75   \n",
       "9644  2/10/2020 9:21      31126.25      31127.35      31064.60      31100.85   \n",
       "9645  2/10/2020 9:18      31130.10      31136.25      31097.75      31125.35   \n",
       "9646  2/10/2020 9:15      31248.65      31248.65      31101.20      31127.40   \n",
       "\n",
       "      BANK Nifty V  \n",
       "9642             0  \n",
       "9643             0  \n",
       "9644             0  \n",
       "9645             0  \n",
       "9646             0  "
      ]
     },
     "execution_count": 4,
     "metadata": {},
     "output_type": "execute_result"
    }
   ],
   "source": [
    "data.tail()"
   ]
  },
  {
   "cell_type": "code",
   "execution_count": 5,
   "metadata": {},
   "outputs": [],
   "source": [
    "# now we will save this data to excel file to use it in future\n",
    "\n",
    "# data.to_excel(\"BN_10_year_data.xlsx\")"
   ]
  },
  {
   "cell_type": "code",
   "execution_count": 9,
   "metadata": {},
   "outputs": [
    {
     "data": {
      "image/png": "[encoded data removed]",
      "text/plain": [
       "<Figure size 432x288 with 1 Axes>"
      ]
     },
     "metadata": {
      "needs_background": "light"
     },
     "output_type": "display_data"
    }
   ],
   "source": [
    "# now we will plot the bank nifty close price chart\n",
    "\n",
    "\n",
    "from pandas.plotting import register_matplotlib_converters\n",
    "register_matplotlib_converters()\n",
    "\n",
    "close = data[\"BANK Nifty C\"].values\n",
    "\n",
    "fig = plt.figure()\n",
    "x = data[\"Date\"]\n",
    "y = close\n",
    "plt.plot(x,y)\n",
    "plt.show()"
   ]
  },
  {
   "cell_type": "code",
   "execution_count": 12,
   "metadata": {},
   "outputs": [],
   "source": [
    "data[\"RSI\"] = RSI(close,timeperiod = 14)"
   ]
  },
  {
   "cell_type": "code",
   "execution_count": 16,
   "metadata": {},
   "outputs": [],
   "source": [
    "data[\"signal\"] = np.where(data[\"RSI\"]>60,1,0)\n",
    "data[\"signal\"] = np.where(data[\"RSI\"]<40,-1,data[\"signal\"])"
   ]
  },
  {
   "cell_type": "code",
   "execution_count": 19,
   "metadata": {},
   "outputs": [
    {
     "data": {
      "text/html": [
       "<div>\n",
       "<style scoped>\n",
       "    .dataframe tbody tr th:only-of-type {\n",
       "        vertical-align: middle;\n",
       "    }\n",
       "\n",
       "    .dataframe tbody tr th {\n",
       "        vertical-align: top;\n",
       "    }\n",
       "\n",
       "    .dataframe thead th {\n",
       "        text-align: right;\n",
       "    }\n",
       "</style>\n",
       "<table border=\"1\" class=\"dataframe\">\n",
       "  <thead>\n",
       "    <tr style=\"text-align: right;\">\n",
       "      <th></th>\n",
       "      <th>Date</th>\n",
       "      <th>BANK Nifty O</th>\n",
       "      <th>BANK Nifty H</th>\n",
       "      <th>BANK Nifty L</th>\n",
       "      <th>BANK Nifty C</th>\n",
       "      <th>BANK Nifty V</th>\n",
       "      <th>RSI</th>\n",
       "      <th>signal</th>\n",
       "    </tr>\n",
       "  </thead>\n",
       "  <tbody>\n",
       "    <tr>\n",
       "      <td>14</td>\n",
       "      <td>6/8/2020 10:09</td>\n",
       "      <td>21613.25</td>\n",
       "      <td>21655.25</td>\n",
       "      <td>21600.35</td>\n",
       "      <td>21631.50</td>\n",
       "      <td>0</td>\n",
       "      <td>49.954865</td>\n",
       "      <td>0</td>\n",
       "    </tr>\n",
       "    <tr>\n",
       "      <td>15</td>\n",
       "      <td>6/8/2020 10:06</td>\n",
       "      <td>21584.30</td>\n",
       "      <td>21615.65</td>\n",
       "      <td>21579.50</td>\n",
       "      <td>21614.80</td>\n",
       "      <td>0</td>\n",
       "      <td>46.908702</td>\n",
       "      <td>0</td>\n",
       "    </tr>\n",
       "    <tr>\n",
       "      <td>16</td>\n",
       "      <td>6/8/2020 10:03</td>\n",
       "      <td>21584.60</td>\n",
       "      <td>21599.35</td>\n",
       "      <td>21547.60</td>\n",
       "      <td>21585.20</td>\n",
       "      <td>0</td>\n",
       "      <td>42.018005</td>\n",
       "      <td>0</td>\n",
       "    </tr>\n",
       "    <tr>\n",
       "      <td>17</td>\n",
       "      <td>6/8/2020 10:00</td>\n",
       "      <td>21621.05</td>\n",
       "      <td>21621.05</td>\n",
       "      <td>21560.75</td>\n",
       "      <td>21585.50</td>\n",
       "      <td>0</td>\n",
       "      <td>42.083912</td>\n",
       "      <td>0</td>\n",
       "    </tr>\n",
       "    <tr>\n",
       "      <td>18</td>\n",
       "      <td>6/8/2020 9:57</td>\n",
       "      <td>21618.05</td>\n",
       "      <td>21657.55</td>\n",
       "      <td>21617.85</td>\n",
       "      <td>21625.30</td>\n",
       "      <td>0</td>\n",
       "      <td>50.175393</td>\n",
       "      <td>0</td>\n",
       "    </tr>\n",
       "    <tr>\n",
       "      <td>19</td>\n",
       "      <td>6/8/2020 9:54</td>\n",
       "      <td>21588.80</td>\n",
       "      <td>21625.55</td>\n",
       "      <td>21570.30</td>\n",
       "      <td>21614.25</td>\n",
       "      <td>0</td>\n",
       "      <td>48.163474</td>\n",
       "      <td>0</td>\n",
       "    </tr>\n",
       "    <tr>\n",
       "      <td>20</td>\n",
       "      <td>6/8/2020 9:51</td>\n",
       "      <td>21697.40</td>\n",
       "      <td>21699.30</td>\n",
       "      <td>21588.60</td>\n",
       "      <td>21588.60</td>\n",
       "      <td>0</td>\n",
       "      <td>43.775532</td>\n",
       "      <td>0</td>\n",
       "    </tr>\n",
       "    <tr>\n",
       "      <td>21</td>\n",
       "      <td>6/8/2020 9:48</td>\n",
       "      <td>21770.00</td>\n",
       "      <td>21772.20</td>\n",
       "      <td>21697.60</td>\n",
       "      <td>21697.60</td>\n",
       "      <td>0</td>\n",
       "      <td>60.319617</td>\n",
       "      <td>1</td>\n",
       "    </tr>\n",
       "    <tr>\n",
       "      <td>22</td>\n",
       "      <td>6/8/2020 9:45</td>\n",
       "      <td>21779.00</td>\n",
       "      <td>21786.65</td>\n",
       "      <td>21747.75</td>\n",
       "      <td>21775.10</td>\n",
       "      <td>0</td>\n",
       "      <td>67.616003</td>\n",
       "      <td>1</td>\n",
       "    </tr>\n",
       "    <tr>\n",
       "      <td>23</td>\n",
       "      <td>6/8/2020 9:42</td>\n",
       "      <td>21770.10</td>\n",
       "      <td>21790.70</td>\n",
       "      <td>21742.80</td>\n",
       "      <td>21778.35</td>\n",
       "      <td>0</td>\n",
       "      <td>67.882711</td>\n",
       "      <td>1</td>\n",
       "    </tr>\n",
       "    <tr>\n",
       "      <td>24</td>\n",
       "      <td>6/8/2020 9:39</td>\n",
       "      <td>21709.05</td>\n",
       "      <td>21771.00</td>\n",
       "      <td>21701.15</td>\n",
       "      <td>21765.85</td>\n",
       "      <td>0</td>\n",
       "      <td>65.643427</td>\n",
       "      <td>1</td>\n",
       "    </tr>\n",
       "    <tr>\n",
       "      <td>25</td>\n",
       "      <td>6/8/2020 9:36</td>\n",
       "      <td>21686.15</td>\n",
       "      <td>21714.55</td>\n",
       "      <td>21640.50</td>\n",
       "      <td>21706.45</td>\n",
       "      <td>0</td>\n",
       "      <td>56.162373</td>\n",
       "      <td>0</td>\n",
       "    </tr>\n",
       "    <tr>\n",
       "      <td>26</td>\n",
       "      <td>6/8/2020 9:33</td>\n",
       "      <td>21684.10</td>\n",
       "      <td>21710.95</td>\n",
       "      <td>21666.15</td>\n",
       "      <td>21684.35</td>\n",
       "      <td>0</td>\n",
       "      <td>53.090035</td>\n",
       "      <td>0</td>\n",
       "    </tr>\n",
       "    <tr>\n",
       "      <td>27</td>\n",
       "      <td>6/8/2020 9:30</td>\n",
       "      <td>21723.80</td>\n",
       "      <td>21805.30</td>\n",
       "      <td>21675.65</td>\n",
       "      <td>21689.80</td>\n",
       "      <td>0</td>\n",
       "      <td>53.761794</td>\n",
       "      <td>0</td>\n",
       "    </tr>\n",
       "    <tr>\n",
       "      <td>28</td>\n",
       "      <td>6/8/2020 9:27</td>\n",
       "      <td>21700.50</td>\n",
       "      <td>21718.90</td>\n",
       "      <td>21651.50</td>\n",
       "      <td>21718.90</td>\n",
       "      <td>0</td>\n",
       "      <td>57.279546</td>\n",
       "      <td>0</td>\n",
       "    </tr>\n",
       "    <tr>\n",
       "      <td>29</td>\n",
       "      <td>6/8/2020 9:24</td>\n",
       "      <td>21725.15</td>\n",
       "      <td>21747.35</td>\n",
       "      <td>21671.20</td>\n",
       "      <td>21696.95</td>\n",
       "      <td>0</td>\n",
       "      <td>53.945687</td>\n",
       "      <td>0</td>\n",
       "    </tr>\n",
       "    <tr>\n",
       "      <td>30</td>\n",
       "      <td>6/8/2020 9:21</td>\n",
       "      <td>21789.15</td>\n",
       "      <td>21794.10</td>\n",
       "      <td>21701.45</td>\n",
       "      <td>21724.40</td>\n",
       "      <td>0</td>\n",
       "      <td>57.293307</td>\n",
       "      <td>0</td>\n",
       "    </tr>\n",
       "    <tr>\n",
       "      <td>31</td>\n",
       "      <td>6/8/2020 9:18</td>\n",
       "      <td>21644.60</td>\n",
       "      <td>21796.95</td>\n",
       "      <td>21635.85</td>\n",
       "      <td>21790.65</td>\n",
       "      <td>0</td>\n",
       "      <td>64.079634</td>\n",
       "      <td>1</td>\n",
       "    </tr>\n",
       "    <tr>\n",
       "      <td>32</td>\n",
       "      <td>6/8/2020 9:15</td>\n",
       "      <td>21636.10</td>\n",
       "      <td>21755.55</td>\n",
       "      <td>21621.45</td>\n",
       "      <td>21641.55</td>\n",
       "      <td>0</td>\n",
       "      <td>46.262306</td>\n",
       "      <td>0</td>\n",
       "    </tr>\n",
       "    <tr>\n",
       "      <td>33</td>\n",
       "      <td>6/5/2020 15:27</td>\n",
       "      <td>21169.85</td>\n",
       "      <td>21196.35</td>\n",
       "      <td>21163.35</td>\n",
       "      <td>21177.40</td>\n",
       "      <td>0</td>\n",
       "      <td>23.943377</td>\n",
       "      <td>-1</td>\n",
       "    </tr>\n",
       "  </tbody>\n",
       "</table>\n",
       "</div>"
      ],
      "text/plain": [
       "              Date  BANK Nifty O  BANK Nifty H  BANK Nifty L  BANK Nifty C  \\\n",
       "14  6/8/2020 10:09      21613.25      21655.25      21600.35      21631.50   \n",
       "15  6/8/2020 10:06      21584.30      21615.65      21579.50      21614.80   \n",
       "16  6/8/2020 10:03      21584.60      21599.35      21547.60      21585.20   \n",
       "17  6/8/2020 10:00      21621.05      21621.05      21560.75      21585.50   \n",
       "18   6/8/2020 9:57      21618.05      21657.55      21617.85      21625.30   \n",
       "19   6/8/2020 9:54      21588.80      21625.55      21570.30      21614.25   \n",
       "20   6/8/2020 9:51      21697.40      21699.30      21588.60      21588.60   \n",
       "21   6/8/2020 9:48      21770.00      21772.20      21697.60      21697.60   \n",
       "22   6/8/2020 9:45      21779.00      21786.65      21747.75      21775.10   \n",
       "23   6/8/2020 9:42      21770.10      21790.70      21742.80      21778.35   \n",
       "24   6/8/2020 9:39      21709.05      21771.00      21701.15      21765.85   \n",
       "25   6/8/2020 9:36      21686.15      21714.55      21640.50      21706.45   \n",
       "26   6/8/2020 9:33      21684.10      21710.95      21666.15      21684.35   \n",
       "27   6/8/2020 9:30      21723.80      21805.30      21675.65      21689.80   \n",
       "28   6/8/2020 9:27      21700.50      21718.90      21651.50      21718.90   \n",
       "29   6/8/2020 9:24      21725.15      21747.35      21671.20      21696.95   \n",
       "30   6/8/2020 9:21      21789.15      21794.10      21701.45      21724.40   \n",
       "31   6/8/2020 9:18      21644.60      21796.95      21635.85      21790.65   \n",
       "32   6/8/2020 9:15      21636.10      21755.55      21621.45      21641.55   \n",
       "33  6/5/2020 15:27      21169.85      21196.35      21163.35      21177.40   \n",
       "\n",
       "    BANK Nifty V        RSI  signal  \n",
       "14             0  49.954865       0  \n",
       "15             0  46.908702       0  \n",
       "16             0  42.018005       0  \n",
       "17             0  42.083912       0  \n",
       "18             0  50.175393       0  \n",
       "19             0  48.163474       0  \n",
       "20             0  43.775532       0  \n",
       "21             0  60.319617       1  \n",
       "22             0  67.616003       1  \n",
       "23             0  67.882711       1  \n",
       "24             0  65.643427       1  \n",
       "25             0  56.162373       0  \n",
       "26             0  53.090035       0  \n",
       "27             0  53.761794       0  \n",
       "28             0  57.279546       0  \n",
       "29             0  53.945687       0  \n",
       "30             0  57.293307       0  \n",
       "31             0  64.079634       1  \n",
       "32             0  46.262306       0  \n",
       "33             0  23.943377      -1  "
      ]
     },
     "execution_count": 19,
     "metadata": {},
     "output_type": "execute_result"
    }
   ],
   "source": [
    "data = data.dropna()\n",
    "data.head(20)"
   ]
  },
  {
   "cell_type": "code",
   "execution_count": 20,
   "metadata": {},
   "outputs": [
    {
     "data": {
      "text/plain": [
       " 0    4927\n",
       " 1    2567\n",
       "-1    2139\n",
       "Name: signal, dtype: int64"
      ]
     },
     "execution_count": 20,
     "metadata": {},
     "output_type": "execute_result"
    }
   ],
   "source": [
    "data[\"signal\"].value_counts()"
   ]
  },
  {
   "cell_type": "code",
   "execution_count": 21,
   "metadata": {},
   "outputs": [
    {
     "data": {
      "text/plain": [
       "14           NaN\n",
       "15     -0.000772\n",
       "16     -0.001370\n",
       "17      0.000014\n",
       "18      0.001842\n",
       "          ...   \n",
       "9642    0.000431\n",
       "9643   -0.000257\n",
       "9644    0.000807\n",
       "9645    0.000787\n",
       "9646    0.000066\n",
       "Name: BN_index_return, Length: 9633, dtype: float64"
      ]
     },
     "execution_count": 21,
     "metadata": {},
     "output_type": "execute_result"
    }
   ],
   "source": [
    "# BN_Index_returns\n",
    "\n",
    "df = pd.DataFrame()\n",
    "df[\"BN_index_return\"] = np.log(data[\"BANK Nifty C\"]/data[\"BANK Nifty C\"].shift(1))\n",
    "df[\"BN_index_return\"]"
   ]
  },
  {
   "cell_type": "code",
   "execution_count": 27,
   "metadata": {},
   "outputs": [
    {
     "data": {
      "text/plain": [
       "14           NaN\n",
       "15      0.999228\n",
       "16      0.998631\n",
       "17      1.000014\n",
       "18      1.001844\n",
       "          ...   \n",
       "9642    1.000431\n",
       "9643    0.999743\n",
       "9644    1.000808\n",
       "9645    1.000788\n",
       "9646    1.000066\n",
       "Name: BN_index_return, Length: 9633, dtype: float64"
      ]
     },
     "execution_count": 27,
     "metadata": {},
     "output_type": "execute_result"
    }
   ],
   "source": [
    "# df = pd.DataFrame()\n",
    "# df[\"BN_index_return\"] = data[\"BANK Nifty C\"]/data[\"BANK Nifty C\"].shift(1)\n",
    "# df[\"BN_index_return\"]"
   ]
  },
  {
   "cell_type": "code",
   "execution_count": 35,
   "metadata": {},
   "outputs": [
    {
     "data": {
      "text/plain": [
       "14           NaN\n",
       "15      0.000000\n",
       "16      0.000000\n",
       "17      0.000000\n",
       "18      0.000000\n",
       "          ...   \n",
       "9642    0.000000\n",
       "9643    0.000000\n",
       "9644    0.000000\n",
       "9645    0.000000\n",
       "9646    1.000066\n",
       "Name: Stretegy_return, Length: 9633, dtype: float64"
      ]
     },
     "execution_count": 35,
     "metadata": {},
     "output_type": "execute_result"
    }
   ],
   "source": [
    "# Startegy_return\n",
    "\n",
    "df[\"Stretegy_return\"] = data[\"signal\"].shift(1) * df[\"BN_index_return\"]\n",
    "df[\"Stretegy_return\"]"
   ]
  },
  {
   "cell_type": "code",
   "execution_count": 25,
   "metadata": {},
   "outputs": [
    {
     "data": {
      "image/png": "[encoded data removed]",
      "text/plain": [
       "<Figure size 576x360 with 1 Axes>"
      ]
     },
     "metadata": {
      "needs_background": "light"
     },
     "output_type": "display_data"
    }
   ],
   "source": [
    "df[[\"BN_index_return\",\"Stretegy_return\"]].cumsum().apply(np.exp).plot(grid=\"True\",figsize=(8,5))\n",
    "plt.show()"
   ]
  },
  {
   "cell_type": "code",
   "execution_count": null,
   "metadata": {},
   "outputs": [],
   "source": []
  }
 ],
 "metadata": {
  "kernelspec": {
   "display_name": "Python 3",
   "language": "python",
   "name": "python3"
  },
  "language_info": {
   "codemirror_mode": {
    "name": "ipython",
    "version": 3
   },
   "file_extension": ".py",
   "mimetype": "text/x-python",
   "name": "python",
   "nbconvert_exporter": "python",
   "pygments_lexer": "ipython3",
   "version": "3.7.4"
  }
 },
 "nbformat": 4,
 "nbformat_minor": 2
}
